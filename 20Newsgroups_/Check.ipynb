{
 "cells": [
  {
   "cell_type": "code",
   "execution_count": 1,
   "metadata": {},
   "outputs": [],
   "source": [
    "import pickle"
   ]
  },
  {
   "cell_type": "code",
   "execution_count": 2,
   "metadata": {},
   "outputs": [],
   "source": [
    "with open(\"clean_doc_train.pkl\", \"rb\") as pkl:\n",
    "    clean_train, _ = pickle.load(pkl)"
   ]
  },
  {
   "cell_type": "code",
   "execution_count": 3,
   "metadata": {},
   "outputs": [
    {
     "data": {
      "text/plain": [
       "14997"
      ]
     },
     "execution_count": 3,
     "metadata": {},
     "output_type": "execute_result"
    }
   ],
   "source": [
    "len(clean_train)"
   ]
  },
  {
   "cell_type": "code",
   "execution_count": 4,
   "metadata": {},
   "outputs": [
    {
     "data": {
      "text/plain": [
       "['branch',\n",
       " 'davidians',\n",
       " 'reality',\n",
       " 'charge',\n",
       " 'weapon',\n",
       " 'violation',\n",
       " 'sort',\n",
       " 'crime',\n",
       " 'highly',\n",
       " 'vernon',\n",
       " 'howell',\n",
       " 'imprison',\n",
       " 'happen',\n",
       " '``',\n",
       " 'survivor',\n",
       " '``',\n",
       " 'forget',\n",
       " 'cult',\n",
       " 'responsible',\n",
       " 'death',\n",
       " 'atf',\n",
       " 'agent',\n",
       " 'expect',\n",
       " 'koresh',\n",
       " 'dead',\n",
       " 'alive',\n",
       " 'sole',\n",
       " 'responsibility',\n",
       " 'survivior',\n",
       " 'trial',\n",
       " '``',\n",
       " 'follow',\n",
       " '``',\n",
       " 'hear',\n",
       " 'wrong',\n",
       " 'left']"
      ]
     },
     "execution_count": 4,
     "metadata": {},
     "output_type": "execute_result"
    }
   ],
   "source": [
    "clean_train[0]"
   ]
  },
  {
   "cell_type": "code",
   "execution_count": 5,
   "metadata": {},
   "outputs": [],
   "source": [
    "with open(\"powerful_words.pkl\", \"rb\") as pkl:\n",
    "    p_words = pickle.load(pkl)"
   ]
  },
  {
   "cell_type": "code",
   "execution_count": 19,
   "metadata": {},
   "outputs": [
    {
     "data": {
      "text/plain": [
       "('``',\n",
       " [9627,\n",
       "  {'talk.politics.misc': 660,\n",
       "   'sci.electronics': 332,\n",
       "   'misc.forsale': 241,\n",
       "   'soc.religion.christian': 698,\n",
       "   'talk.religion.misc': 676,\n",
       "   'sci.med': 514,\n",
       "   'comp.os.ms-windows.misc': 345,\n",
       "   'comp.sys.mac.hardware': 354,\n",
       "   'talk.politics.guns': 647,\n",
       "   'alt.atheism': 706,\n",
       "   'rec.sport.baseball': 463,\n",
       "   'sci.crypt': 551,\n",
       "   'comp.sys.ibm.pc.hardware': 310,\n",
       "   'sci.space': 526,\n",
       "   'comp.windows.x': 347,\n",
       "   'rec.sport.hockey': 386,\n",
       "   'rec.autos': 386,\n",
       "   'talk.politics.mideast': 636,\n",
       "   'rec.motorcycles': 534,\n",
       "   'comp.graphics': 315},\n",
       "  {'talk.politics.misc': 0.65999999934,\n",
       "   'talk.religion.misc': 0.675999999324,\n",
       "   'sci.electronics': 0.331999999668,\n",
       "   'misc.forsale': 0.240999999759,\n",
       "   'rec.motorcycles': 0.533999999466,\n",
       "   'comp.sys.mac.hardware': 0.353999999646,\n",
       "   'rec.sport.hockey': 0.385999999614,\n",
       "   'talk.politics.mideast': 0.635999999364,\n",
       "   'soc.religion.christian': 0.7001003002005012,\n",
       "   'sci.med': 0.513999999486,\n",
       "   'comp.os.ms-windows.misc': 0.344999999655,\n",
       "   'talk.politics.guns': 0.646999999353,\n",
       "   'alt.atheism': 0.705999999294,\n",
       "   'comp.graphics': 0.314999999685,\n",
       "   'comp.sys.ibm.pc.hardware': 0.30999999969,\n",
       "   'rec.sport.baseball': 0.462999999537,\n",
       "   'sci.crypt': 0.550999999449,\n",
       "   'rec.autos': 0.385999999614,\n",
       "   'sci.space': 0.525999999474,\n",
       "   'comp.windows.x': 0.346999999653}])"
      ]
     },
     "execution_count": 19,
     "metadata": {},
     "output_type": "execute_result"
    }
   ],
   "source": [
    "p_words[0]"
   ]
  },
  {
   "cell_type": "code",
   "execution_count": 8,
   "metadata": {},
   "outputs": [
    {
     "data": {
      "text/plain": [
       "('abuse',\n",
       " [232,\n",
       "  {'talk.politics.guns': 57,\n",
       "   'alt.atheism': 12,\n",
       "   'talk.politics.mideast': 11,\n",
       "   'sci.crypt': 28,\n",
       "   'comp.os.ms-windows.misc': 2,\n",
       "   'soc.religion.christian': 24,\n",
       "   'comp.sys.ibm.pc.hardware': 1,\n",
       "   'sci.electronics': 5,\n",
       "   'sci.med': 12,\n",
       "   'misc.forsale': 1,\n",
       "   'talk.politics.misc': 45,\n",
       "   'talk.religion.misc': 17,\n",
       "   'rec.autos': 6,\n",
       "   'comp.windows.x': 3,\n",
       "   'rec.motorcycles': 3,\n",
       "   'rec.sport.baseball': 1,\n",
       "   'sci.space': 2,\n",
       "   'comp.graphics': 2},\n",
       "  {'talk.politics.misc': 0.044999999955,\n",
       "   'talk.religion.misc': 0.016999999983,\n",
       "   'sci.electronics': 0.004999999995,\n",
       "   'misc.forsale': 0.000999999999,\n",
       "   'rec.motorcycles': 0.002999999997,\n",
       "   'talk.politics.mideast': 0.010999999989,\n",
       "   'soc.religion.christian': 0.0240722166258052,\n",
       "   'sci.med': 0.011999999988,\n",
       "   'comp.os.ms-windows.misc': 0.001999999998,\n",
       "   'talk.politics.guns': 0.056999999943,\n",
       "   'alt.atheism': 0.011999999988,\n",
       "   'comp.graphics': 0.001999999998,\n",
       "   'comp.sys.ibm.pc.hardware': 0.000999999999,\n",
       "   'rec.sport.baseball': 0.000999999999,\n",
       "   'sci.crypt': 0.027999999972,\n",
       "   'rec.autos': 0.005999999994,\n",
       "   'sci.space': 0.001999999998,\n",
       "   'comp.windows.x': 0.002999999997}])"
      ]
     },
     "execution_count": 8,
     "metadata": {},
     "output_type": "execute_result"
    }
   ],
   "source": [
    "p_words[1000]"
   ]
  },
  {
   "cell_type": "code",
   "execution_count": 9,
   "metadata": {},
   "outputs": [],
   "source": [
    "with open(\"pword_prob.pkl\", \"rb\") as pkl:\n",
    "    word_train, word_test = pickle.load(pkl)"
   ]
  },
  {
   "cell_type": "code",
   "execution_count": 10,
   "metadata": {},
   "outputs": [
    {
     "data": {
      "text/plain": [
       "array([[0.45499984, 0.99841013, 0.61630404, ..., 0.41551578, 0.98789853,\n",
       "        0.69161142],\n",
       "       [0.30966426, 0.65619764, 0.54908535, ..., 0.37362423, 0.70223535,\n",
       "        0.56037677],\n",
       "       [0.99963617, 0.99646784, 0.99568764, ..., 0.94875134, 0.99522118,\n",
       "        0.98548239],\n",
       "       ...,\n",
       "       [0.88945971, 0.99942704, 0.9667812 , ..., 0.87548247, 0.99793884,\n",
       "        0.96728131],\n",
       "       [0.66485605, 0.91684261, 0.79993375, ..., 0.6880393 , 0.93988572,\n",
       "        0.80497492],\n",
       "       [0.6344667 , 0.65916387, 0.67038075, ..., 0.68709147, 0.6657005 ,\n",
       "        0.56978522]])"
      ]
     },
     "execution_count": 10,
     "metadata": {},
     "output_type": "execute_result"
    }
   ],
   "source": [
    "word_train"
   ]
  },
  {
   "cell_type": "code",
   "execution_count": null,
   "metadata": {},
   "outputs": [],
   "source": []
  }
 ],
 "metadata": {
  "kernelspec": {
   "display_name": "Python 3",
   "language": "python",
   "name": "python3"
  },
  "language_info": {
   "codemirror_mode": {
    "name": "ipython",
    "version": 3
   },
   "file_extension": ".py",
   "mimetype": "text/x-python",
   "name": "python",
   "nbconvert_exporter": "python",
   "pygments_lexer": "ipython3",
   "version": "3.6.5"
  }
 },
 "nbformat": 4,
 "nbformat_minor": 2
}
